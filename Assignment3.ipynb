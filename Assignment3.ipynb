{
 "cells": [
  {
   "cell_type": "code",
   "execution_count": 66,
   "metadata": {},
   "outputs": [],
   "source": [
    "import matplotlib.pyplot as plt\n",
    "from sklearn.metrics import plot_confusion_matrix\n",
    "import seaborn as sns"
   ]
  },
  {
   "cell_type": "code",
   "execution_count": 67,
   "metadata": {},
   "outputs": [],
   "source": [
    "dataset = open(\"Movies_TV.txt\").read()\n",
    "dataset = dataset.split('\\n')\n",
    "dataset.remove(dataset[0])\n",
    "dataset.remove(dataset[-1])\n",
    "dataset.remove(dataset[-1])"
   ]
  },
  {
   "cell_type": "code",
   "execution_count": 68,
   "metadata": {},
   "outputs": [],
   "source": [
    "reviews = []\n",
    "label_list = []\n",
    "for item in dataset:\n",
    "    _, label, _, text = item.split('\\t')\n",
    "    reviews.append(text)\n",
    "    label_list.append(label)"
   ]
  },
  {
   "cell_type": "code",
   "execution_count": 69,
   "metadata": {},
   "outputs": [],
   "source": [
    "from sklearn.feature_extraction.text import TfidfVectorizer\n",
    "vectorize = TfidfVectorizer(max_df = 600, min_df = 5, ngram_range = (1,3), max_features = 100)\n",
    "X = vectorize.fit_transform(reviews)\n",
    "X = X.toarray()"
   ]
  },
  {
   "cell_type": "code",
   "execution_count": 70,
   "metadata": {},
   "outputs": [
    {
     "data": {
      "text/plain": [
       "{'my': 44,\n",
       " 'love': 38,\n",
       " 'film': 20,\n",
       " 'get': 25,\n",
       " 'story': 72,\n",
       " 'great': 28,\n",
       " 'think': 81,\n",
       " 'can': 10,\n",
       " 'really': 61,\n",
       " 'as': 4,\n",
       " 'well': 91,\n",
       " 'on': 50,\n",
       " 'episode': 18,\n",
       " 'new': 46,\n",
       " 'from': 24,\n",
       " 'what': 92,\n",
       " 'at': 5,\n",
       " 'dvd': 17,\n",
       " 'see': 65,\n",
       " 'that': 74,\n",
       " 'time': 84,\n",
       " 'movie': 42,\n",
       " 'in': 32,\n",
       " 'not': 47,\n",
       " 'for': 22,\n",
       " 'to be': 85,\n",
       " 'be the': 7,\n",
       " 'of the': 48,\n",
       " 'be not': 6,\n",
       " 'have': 29,\n",
       " 'old': 49,\n",
       " 'he': 30,\n",
       " 'so': 70,\n",
       " 'other': 56,\n",
       " 'original': 55,\n",
       " 'one': 52,\n",
       " 'out': 57,\n",
       " 'but': 8,\n",
       " 'we': 90,\n",
       " 'will': 96,\n",
       " 'there': 78,\n",
       " 'watch': 89,\n",
       " 'character': 11,\n",
       " 'lrb': 39,\n",
       " 'which': 94,\n",
       " 'rrb': 62,\n",
       " 'would': 98,\n",
       " 'if': 31,\n",
       " 'even': 19,\n",
       " 'cinderella': 12,\n",
       " 'she': 67,\n",
       " 'do': 14,\n",
       " 'they': 80,\n",
       " 'with': 97,\n",
       " 'who': 95,\n",
       " 'just': 36,\n",
       " 'it be': 35,\n",
       " 'to the': 86,\n",
       " 'in the': 33,\n",
       " 'there be': 79,\n",
       " 'for the': 23,\n",
       " 'do not': 15,\n",
       " 'this movie': 83,\n",
       " 'that be': 75,\n",
       " 'never': 45,\n",
       " 'doctor': 16,\n",
       " 'show': 68,\n",
       " 'the doctor': 76,\n",
       " 'this be': 82,\n",
       " 'disney': 13,\n",
       " 'some': 71,\n",
       " 'good': 27,\n",
       " 'up': 87,\n",
       " 'all': 1,\n",
       " 'the movie': 77,\n",
       " 'by': 9,\n",
       " 'or': 54,\n",
       " 'also': 2,\n",
       " 'you': 99,\n",
       " 'when': 93,\n",
       " 'make': 40,\n",
       " 'about': 0,\n",
       " 'one of': 53,\n",
       " 'peter': 59,\n",
       " 'pan': 58,\n",
       " 'go': 26,\n",
       " 'peter pan': 60,\n",
       " 'much': 43,\n",
       " 'very': 88,\n",
       " 'like': 37,\n",
       " 'season': 64,\n",
       " 'series': 66,\n",
       " 'more': 41,\n",
       " 'than': 73,\n",
       " 'and the': 3,\n",
       " 'say': 63,\n",
       " 'on the': 51,\n",
       " 'into': 34,\n",
       " 'first': 21,\n",
       " 'smith': 69}"
      ]
     },
     "execution_count": 70,
     "metadata": {},
     "output_type": "execute_result"
    }
   ],
   "source": [
    "vectorize.vocabulary_"
   ]
  },
  {
   "cell_type": "code",
   "execution_count": 71,
   "metadata": {},
   "outputs": [
    {
     "data": {
      "text/plain": [
       "array([[0.        , 0.        , 0.        , ..., 0.        , 0.        ,\n",
       "        0.        ],\n",
       "       [0.        , 0.        , 0.        , ..., 0.        , 0.        ,\n",
       "        0.        ],\n",
       "       [0.        , 0.        , 0.        , ..., 0.        , 0.        ,\n",
       "        0.        ],\n",
       "       ...,\n",
       "       [0.        , 0.        , 0.        , ..., 0.        , 0.        ,\n",
       "        0.        ],\n",
       "       [0.        , 0.        , 0.        , ..., 0.        , 0.        ,\n",
       "        0.        ],\n",
       "       [0.        , 0.        , 0.        , ..., 0.11948648, 0.        ,\n",
       "        0.12505457]])"
      ]
     },
     "execution_count": 71,
     "metadata": {},
     "output_type": "execute_result"
    }
   ],
   "source": [
    "X"
   ]
  },
  {
   "cell_type": "code",
   "execution_count": 72,
   "metadata": {},
   "outputs": [],
   "source": [
    "from sklearn.model_selection import train_test_split\n",
    "trainX, testX, trainY, testY = train_test_split(X, label_list, shuffle = True, train_size=0.7)"
   ]
  },
  {
   "cell_type": "code",
   "execution_count": 73,
   "metadata": {},
   "outputs": [
    {
     "data": {
      "text/plain": [
       "(700, 300)"
      ]
     },
     "execution_count": 73,
     "metadata": {},
     "output_type": "execute_result"
    }
   ],
   "source": [
    "len(trainX), len(testX)"
   ]
  },
  {
   "cell_type": "code",
   "execution_count": 74,
   "metadata": {},
   "outputs": [],
   "source": [
    "from sklearn.linear_model import SGDClassifier\n",
    "from sklearn.naive_bayes import GaussianNB\n",
    "from sklearn.tree import DecisionTreeClassifier\n",
    "from sklearn.neighbors import KNeighborsClassifier"
   ]
  },
  {
   "cell_type": "code",
   "execution_count": 75,
   "metadata": {},
   "outputs": [],
   "source": [
    "linear = SGDClassifier()\n",
    "naivebayes = GaussianNB()\n",
    "decisiontree = DecisionTreeClassifier()\n",
    "knn = KNeighborsClassifier()"
   ]
  },
  {
   "cell_type": "code",
   "execution_count": 76,
   "metadata": {},
   "outputs": [
    {
     "data": {
      "text/plain": [
       "KNeighborsClassifier()"
      ]
     },
     "execution_count": 76,
     "metadata": {},
     "output_type": "execute_result"
    }
   ],
   "source": [
    "linear.fit(trainX, trainY)\n",
    "naivebayes.fit(trainX, trainY)\n",
    "decisiontree.fit(trainX, trainY)\n",
    "knn.fit(trainX, trainY)"
   ]
  },
  {
   "cell_type": "code",
   "execution_count": 77,
   "metadata": {},
   "outputs": [],
   "source": [
    "pred_y_linear = linear.predict(testX)\n",
    "pred_y_naivebayes = naivebayes.predict(testX)\n",
    "pred_y_decisiontree = decisiontree.predict(testX)\n",
    "pred_y_knn = knn.predict(testX)"
   ]
  },
  {
   "cell_type": "code",
   "execution_count": 78,
   "metadata": {},
   "outputs": [],
   "source": [
    "from sklearn.metrics import precision_score, recall_score, f1_score, accuracy_score, confusion_matrix\n",
    "linear_accuracy = accuracy_score(testY, pred_y_linear)\n",
    "naivebayes_accuracy = accuracy_score(testY, pred_y_naivebayes)\n",
    "decisiontree_accuracy = accuracy_score(testY, pred_y_decisiontree)\n",
    "knn_accuracy = accuracy_score(testY, pred_y_knn)"
   ]
  },
  {
   "cell_type": "code",
   "execution_count": 79,
   "metadata": {},
   "outputs": [
    {
     "name": "stdout",
     "output_type": "stream",
     "text": [
      "Linear:  0.8333333333333334\n",
      "Naive Bayes:  0.46\n",
      "Decision Tree:  0.7333333333333333\n",
      "KNN:  0.7866666666666666\n"
     ]
    }
   ],
   "source": [
    "print(\"Linear: \", linear_accuracy)\n",
    "print(\"Naive Bayes: \", naivebayes_accuracy)\n",
    "print(\"Decision Tree: \", decisiontree_accuracy)\n",
    "print(\"KNN: \", knn_accuracy)"
   ]
  },
  {
   "cell_type": "code",
   "execution_count": 80,
   "metadata": {},
   "outputs": [
    {
     "data": {
      "text/plain": [
       "array([[  5,   3,  19],\n",
       "       [  0,   2,  18],\n",
       "       [  3,   7, 243]], dtype=int64)"
      ]
     },
     "execution_count": 80,
     "metadata": {},
     "output_type": "execute_result"
    }
   ],
   "source": [
    "confusion_matrix(testY, pred_y_linear)"
   ]
  },
  {
   "cell_type": "code",
   "execution_count": 81,
   "metadata": {},
   "outputs": [
    {
     "data": {
      "text/plain": [
       "array([[0.        ],\n",
       "       [0.        ],\n",
       "       [0.        ],\n",
       "       ...,\n",
       "       [0.11948648],\n",
       "       [0.        ],\n",
       "       [0.12505457]])"
      ]
     },
     "execution_count": 81,
     "metadata": {},
     "output_type": "execute_result"
    }
   ],
   "source": [
    "X.reshape(-1,1)"
   ]
  },
  {
   "cell_type": "code",
   "execution_count": 93,
   "metadata": {},
   "outputs": [
    {
     "data": {
      "image/png": "[encoded data removed]",
      "text/plain": [
       "<Figure size 432x288 with 2 Axes>"
      ]
     },
     "metadata": {
      "needs_background": "light"
     },
     "output_type": "display_data"
    }
   ],
   "source": [
    "linear_matrix = confusion_matrix(testY,pred_y_linear)\n",
    "ax = sns.heatmap(linear_matrix, annot=linear_matrix,  fmt='', cmap='Blues')\n",
    "\n",
    "ax.set_title('Linear Confusion Matrix\\n\\n');\n",
    "ax.set_xlabel('\\nPredicted Values')\n",
    "ax.set_ylabel('Actual Values ');\n",
    "\n",
    "plt.show()"
   ]
  },
  {
   "cell_type": "code",
   "execution_count": null,
   "metadata": {},
   "outputs": [],
   "source": []
  },
  {
   "cell_type": "code",
   "execution_count": 94,
   "metadata": {},
   "outputs": [
    {
     "name": "stdout",
     "output_type": "stream",
     "text": [
      "Accuracy: 0.833\n"
     ]
    }
   ],
   "source": [
    "print('Accuracy: %.3f' % accuracy_score(testY,pred_y_linear))"
   ]
  },
  {
   "cell_type": "code",
   "execution_count": 95,
   "metadata": {},
   "outputs": [
    {
     "name": "stdout",
     "output_type": "stream",
     "text": [
      "Precision: 0.833\n"
     ]
    }
   ],
   "source": [
    "print('Precision: %.3f' % precision_score(testY,pred_y_linear, average='micro'))"
   ]
  },
  {
   "cell_type": "code",
   "execution_count": 96,
   "metadata": {},
   "outputs": [
    {
     "name": "stdout",
     "output_type": "stream",
     "text": [
      "Recall: 0.833\n"
     ]
    }
   ],
   "source": [
    "print('Recall: %.3f' % recall_score(testY,pred_y_linear, average='micro'))"
   ]
  },
  {
   "cell_type": "code",
   "execution_count": 97,
   "metadata": {},
   "outputs": [
    {
     "name": "stdout",
     "output_type": "stream",
     "text": [
      "F1 Score: 0.833\n"
     ]
    }
   ],
   "source": [
    "print('F1 Score: %.3f' % f1_score(testY,pred_y_linear, average='micro'))"
   ]
  },
  {
   "cell_type": "code",
   "execution_count": null,
   "metadata": {},
   "outputs": [],
   "source": []
  },
  {
   "cell_type": "code",
   "execution_count": null,
   "metadata": {},
   "outputs": [],
   "source": []
  }
 ],
 "metadata": {
  "kernelspec": {
   "display_name": "Python 3 (ipykernel)",
   "language": "python",
   "name": "python3"
  },
  "language_info": {
   "codemirror_mode": {
    "name": "ipython",
    "version": 3
   },
   "file_extension": ".py",
   "mimetype": "text/x-python",
   "name": "python",
   "nbconvert_exporter": "python",
   "pygments_lexer": "ipython3",
   "version": "3.9.7"
  }
 },
 "nbformat": 4,
 "nbformat_minor": 4
}
